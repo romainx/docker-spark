{
 "cells": [
  {
   "cell_type": "code",
   "execution_count": 1,
   "metadata": {},
   "outputs": [
    {
     "name": "stderr",
     "output_type": "stream",
     "text": [
      "\n",
      "Attaching package: ‘dplyr’\n",
      "\n",
      "\n",
      "The following objects are masked from ‘package:stats’:\n",
      "\n",
      "    filter, lag\n",
      "\n",
      "\n",
      "The following objects are masked from ‘package:base’:\n",
      "\n",
      "    intersect, setdiff, setequal, union\n",
      "\n",
      "\n"
     ]
    },
    {
     "data": {
      "text/plain": [
       "\u001b[90m# Source: spark<?> [?? x 5]\u001b[39m\n",
       "  Sepal_Length Sepal_Width Petal_Length Petal_Width Species\n",
       "         \u001b[3m\u001b[90m<dbl>\u001b[39m\u001b[23m       \u001b[3m\u001b[90m<dbl>\u001b[39m\u001b[23m        \u001b[3m\u001b[90m<dbl>\u001b[39m\u001b[23m       \u001b[3m\u001b[90m<dbl>\u001b[39m\u001b[23m \u001b[3m\u001b[90m<chr>\u001b[39m\u001b[23m  \n",
       "\u001b[90m1\u001b[39m          5.4         3.9          1.7         0.4 setosa \n",
       "\u001b[90m2\u001b[39m          4.6         3.4          1.4         0.3 setosa \n",
       "\u001b[90m3\u001b[39m          5.7         4.4          1.5         0.4 setosa \n",
       "\u001b[90m4\u001b[39m          5.4         3.9          1.3         0.4 setosa \n",
       "\u001b[90m5\u001b[39m          5.1         3.5          1.4         0.3 setosa \n",
       "\u001b[90m6\u001b[39m          5.7         3.8          1.7         0.3 setosa "
      ]
     },
     "metadata": {},
     "output_type": "display_data"
    }
   ],
   "source": [
    "library(sparklyr)\n",
    "library(dplyr)\n",
    "\n",
    "# Spark session\n",
    "sc <- spark_connect(master = \"spark://master:7077\")\n",
    "\n",
    "# do something to prove it works\n",
    "iris_tbl <- copy_to(sc, iris)\n",
    "iris_tbl %>% \n",
    "    filter(Petal_Width > 0.2) %>%\n",
    "    head()"
   ]
  }
 ],
 "metadata": {
  "kernelspec": {
   "display_name": "R",
   "language": "R",
   "name": "ir"
  },
  "language_info": {
   "codemirror_mode": "r",
   "file_extension": ".r",
   "mimetype": "text/x-r-source",
   "name": "R",
   "pygments_lexer": "r",
   "version": "3.6.3"
  }
 },
 "nbformat": 4,
 "nbformat_minor": 4
}
