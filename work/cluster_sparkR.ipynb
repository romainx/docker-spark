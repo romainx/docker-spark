{
 "cells": [
  {
   "cell_type": "code",
   "execution_count": 1,
   "metadata": {},
   "outputs": [
    {
     "name": "stderr",
     "output_type": "stream",
     "text": [
      "\n",
      "Attaching package: ‘SparkR’\n",
      "\n",
      "\n",
      "The following objects are masked from ‘package:stats’:\n",
      "\n",
      "    cov, filter, lag, na.omit, predict, sd, var, window\n",
      "\n",
      "\n",
      "The following objects are masked from ‘package:base’:\n",
      "\n",
      "    as.data.frame, colnames, colnames<-, drop, endsWith, intersect,\n",
      "    rank, rbind, sample, startsWith, subset, summary, transform, union\n",
      "\n",
      "\n",
      "Spark package found in SPARK_HOME: /usr/local/spark\n",
      "\n"
     ]
    },
    {
     "name": "stdout",
     "output_type": "stream",
     "text": [
      "Launching java with spark-submit command /usr/local/spark/bin/spark-submit   sparkr-shell /tmp/Rtmpuk5JlQ/backend_port5e71d24dee \n"
     ]
    },
    {
     "name": "stderr",
     "output_type": "stream",
     "text": [
      "Warning message in FUN(X[[i]], ...):\n",
      "“Use Sepal_Length instead of Sepal.Length  as column name”\n",
      "Warning message in FUN(X[[i]], ...):\n",
      "“Use Sepal_Width instead of Sepal.Width  as column name”\n",
      "Warning message in FUN(X[[i]], ...):\n",
      "“Use Petal_Length instead of Petal.Length  as column name”\n",
      "Warning message in FUN(X[[i]], ...):\n",
      "“Use Petal_Width instead of Petal.Width  as column name”\n"
     ]
    },
    {
     "data": {
      "text/html": [
       "<table>\n",
       "<caption>A data.frame: 6 × 5</caption>\n",
       "<thead>\n",
       "\t<tr><th></th><th scope=col>Sepal_Length</th><th scope=col>Sepal_Width</th><th scope=col>Petal_Length</th><th scope=col>Petal_Width</th><th scope=col>Species</th></tr>\n",
       "\t<tr><th></th><th scope=col>&lt;dbl&gt;</th><th scope=col>&lt;dbl&gt;</th><th scope=col>&lt;dbl&gt;</th><th scope=col>&lt;dbl&gt;</th><th scope=col>&lt;chr&gt;</th></tr>\n",
       "</thead>\n",
       "<tbody>\n",
       "\t<tr><th scope=row>1</th><td>5.4</td><td>3.9</td><td>1.7</td><td>0.4</td><td>setosa</td></tr>\n",
       "\t<tr><th scope=row>2</th><td>4.6</td><td>3.4</td><td>1.4</td><td>0.3</td><td>setosa</td></tr>\n",
       "\t<tr><th scope=row>3</th><td>5.7</td><td>4.4</td><td>1.5</td><td>0.4</td><td>setosa</td></tr>\n",
       "\t<tr><th scope=row>4</th><td>5.4</td><td>3.9</td><td>1.3</td><td>0.4</td><td>setosa</td></tr>\n",
       "\t<tr><th scope=row>5</th><td>5.1</td><td>3.5</td><td>1.4</td><td>0.3</td><td>setosa</td></tr>\n",
       "\t<tr><th scope=row>6</th><td>5.7</td><td>3.8</td><td>1.7</td><td>0.3</td><td>setosa</td></tr>\n",
       "</tbody>\n",
       "</table>\n"
      ],
      "text/latex": [
       "A data.frame: 6 × 5\n",
       "\\begin{tabular}{r|lllll}\n",
       "  & Sepal\\_Length & Sepal\\_Width & Petal\\_Length & Petal\\_Width & Species\\\\\n",
       "  & <dbl> & <dbl> & <dbl> & <dbl> & <chr>\\\\\n",
       "\\hline\n",
       "\t1 & 5.4 & 3.9 & 1.7 & 0.4 & setosa\\\\\n",
       "\t2 & 4.6 & 3.4 & 1.4 & 0.3 & setosa\\\\\n",
       "\t3 & 5.7 & 4.4 & 1.5 & 0.4 & setosa\\\\\n",
       "\t4 & 5.4 & 3.9 & 1.3 & 0.4 & setosa\\\\\n",
       "\t5 & 5.1 & 3.5 & 1.4 & 0.3 & setosa\\\\\n",
       "\t6 & 5.7 & 3.8 & 1.7 & 0.3 & setosa\\\\\n",
       "\\end{tabular}\n"
      ],
      "text/markdown": [
       "\n",
       "A data.frame: 6 × 5\n",
       "\n",
       "| <!--/--> | Sepal_Length &lt;dbl&gt; | Sepal_Width &lt;dbl&gt; | Petal_Length &lt;dbl&gt; | Petal_Width &lt;dbl&gt; | Species &lt;chr&gt; |\n",
       "|---|---|---|---|---|---|\n",
       "| 1 | 5.4 | 3.9 | 1.7 | 0.4 | setosa |\n",
       "| 2 | 4.6 | 3.4 | 1.4 | 0.3 | setosa |\n",
       "| 3 | 5.7 | 4.4 | 1.5 | 0.4 | setosa |\n",
       "| 4 | 5.4 | 3.9 | 1.3 | 0.4 | setosa |\n",
       "| 5 | 5.1 | 3.5 | 1.4 | 0.3 | setosa |\n",
       "| 6 | 5.7 | 3.8 | 1.7 | 0.3 | setosa |\n",
       "\n"
      ],
      "text/plain": [
       "  Sepal_Length Sepal_Width Petal_Length Petal_Width Species\n",
       "1 5.4          3.9         1.7          0.4         setosa \n",
       "2 4.6          3.4         1.4          0.3         setosa \n",
       "3 5.7          4.4         1.5          0.4         setosa \n",
       "4 5.4          3.9         1.3          0.4         setosa \n",
       "5 5.1          3.5         1.4          0.3         setosa \n",
       "6 5.7          3.8         1.7          0.3         setosa "
      ]
     },
     "metadata": {},
     "output_type": "display_data"
    }
   ],
   "source": [
    "library(SparkR)\n",
    "\n",
    "\n",
    "sc <- sparkR.session(\"spark://master:7077\")\n",
    "\n",
    "# do something to prove it works\n",
    "data(iris)\n",
    "df <- as.DataFrame(iris)\n",
    "head(filter(df, df$Petal_Width > 0.2))"
   ]
  },
  {
   "cell_type": "code",
   "execution_count": null,
   "metadata": {},
   "outputs": [],
   "source": []
  }
 ],
 "metadata": {
  "kernelspec": {
   "display_name": "R",
   "language": "R",
   "name": "ir"
  },
  "language_info": {
   "codemirror_mode": "r",
   "file_extension": ".r",
   "mimetype": "text/x-r-source",
   "name": "R",
   "pygments_lexer": "r",
   "version": "3.6.3"
  }
 },
 "nbformat": 4,
 "nbformat_minor": 4
}
